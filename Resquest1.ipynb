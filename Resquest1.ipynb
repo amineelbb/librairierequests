{
 "cells": [
  {
   "attachments": {},
   "cell_type": "markdown",
   "metadata": {},
   "source": [
    "creation de l'espace virtuel et Installation des différents packages pip install pour utiliser la librairie requests et pandas"
   ]
  },
  {
   "cell_type": "code",
   "execution_count": null,
   "metadata": {},
   "outputs": [
    {
     "ename": "",
     "evalue": "",
     "output_type": "error",
     "traceback": [
      "\u001b[1;31mRunning cells with 'env' requires the ipykernel package.\n",
      "\u001b[1;31mRun the following command to install 'ipykernel' into the Python environment. \n",
      "\u001b[1;31mCommand: '/home/apprenant/Documents/librairierequests/env/bin/python -m pip install ipykernel -U --force-reinstall'"
     ]
    }
   ],
   "source": [
    "python -m venv/env\n",
    "source env/bin/activate\n",
    "pip install python-dotenv\n",
    "pip install requests\n",
    "pip install --upgrade pip\n",
    "pip install requests\n",
    "pip install python-dotenv"
   ]
  },
  {
   "attachments": {},
   "cell_type": "markdown",
   "metadata": {},
   "source": [
    "import des différents modules nécessaire au requetage de l'api avec l'import de la librairie request, du module pandas et datetime pour convertir en heures le lever et coucher du soleil"
   ]
  },
  {
   "cell_type": "code",
   "execution_count": null,
   "metadata": {},
   "outputs": [],
   "source": [
    "import requests\n",
    "import json\n",
    "import pandas as pd\n",
    "from datetime import datetime"
   ]
  },
  {
   "attachments": {},
   "cell_type": "markdown",
   "metadata": {},
   "source": [
    "creation de la Liste des villes pour lesquelles nous voulons récupérer les données météorologiques"
   ]
  },
  {
   "cell_type": "code",
   "execution_count": null,
   "metadata": {},
   "outputs": [],
   "source": [
    "villes = [\"Paris\", \"Marseille\", \"Lyon\", \"Toulouse\", \"Nice\", \"Nantes\", \"Strasbourg\", \"Montpellier\", \"Bordeaux\", \"Lille\", \"Rennes\", \"Reims\", \"Le Havre\", \"Saint-Etienne\", \"Toulon\", \"Grenoble\", \"Dijon\", \"Angers\", \"Nîmes\", \"Villeurbanne\"]"
   ]
  },
  {
   "attachments": {},
   "cell_type": "markdown",
   "metadata": {},
   "source": [
    "Import de la clé Api sur le site openweather pour cacher sur github"
   ]
  },
  {
   "cell_type": "code",
   "execution_count": null,
   "metadata": {},
   "outputs": [],
   "source": [
    "api_cle = \"ccd28dc62bea9dff40f57b56e9073c9b\""
   ]
  },
  {
   "attachments": {},
   "cell_type": "markdown",
   "metadata": {},
   "source": [
    "Création d'un DataFrame pour stocker les données"
   ]
  },
  {
   "cell_type": "code",
   "execution_count": null,
   "metadata": {},
   "outputs": [],
   "source": [
    "df = pd.DataFrame(columns=[\"Ville\", \"Température actuelle\", \"Température ressentie\", \"Température minimale\", \"Température maximale\", \"Pression atmosphérique\", \"Humidité\", \"Vitesse du vent\", \"Direction du vent\", \"Lever du soleil\", \"Coucher du soleil\"])"
   ]
  },
  {
   "attachments": {},
   "cell_type": "markdown",
   "metadata": {},
   "source": [
    "creation dune Boucle for  pour effectuer des requêtes pour chaque ville et stocker les données météorologique demandées dans le DataFrame"
   ]
  },
  {
   "cell_type": "code",
   "execution_count": null,
   "metadata": {},
   "outputs": [],
   "source": [
    "for ville in villes:\n",
    "    url = f\"https://api.openweathermap.org/data/2.5/weather?q={ville},fr&appid={api_cle}\"\n",
    "    response = requests.get(url)\n",
    "    data = response.json()\n",
    "    \n",
    "    temperature_actuelle = data[\"main\"][\"temp\"] -273.15\n",
    "    temperature_ressentie = data[\"main\"][\"feels_like\"] -273.15\n",
    "    temperature_minimale = data[\"main\"][\"temp_min\"] -273.15\n",
    "    temperature_maximale = data[\"main\"][\"temp_max\"] -273.15\n",
    "    pression = data[\"main\"][\"pressure\"]\n",
    "    humidite = data[\"main\"][\"humidity\"]\n",
    "\n",
    "    vent_vitesse = data[\"wind\"][\"speed\"]\n",
    "    vent_direction = data[\"wind\"][\"deg\"]\n",
    "     # Conversion des horaires de lever et coucher du soleil\n",
    "    lever_soleil = datetime.fromtimestamp(data[\"sys\"][\"sunrise\"])\n",
    "    coucher_soleil = datetime.fromtimestamp(data[\"sys\"][\"sunset\"])\n",
    "    \n",
    "   \n",
    "    \n",
    "\n",
    "  \n",
    "  \n",
    "\n",
    "    # Ajout des données dans le DataFrame\n",
    "    df2 = pd.DataFrame({\n",
    "        \"Ville\": ville,\n",
    "        \"Température actuelle\": temperature_actuelle,\n",
    "        \"Température ressentie\": temperature_ressentie,\n",
    "        \"Température minimale\": temperature_minimale,\n",
    "        \"Température maximale\": temperature_maximale,\n",
    "        \"Pression atmosphérique\": pression,\n",
    "        \"Humidité\": humidite,\n",
    "        \"Vitesse du vent\": vent_vitesse,\n",
    "        \"Direction du vent\": vent_direction,\n",
    "        \n",
    "        #conversation du lever et coucher du soleil en heure , minute et secondes\n",
    "        \"Lever du soleil\": lever_soleil.strftime(\"%H:%M:%S\"),\n",
    "        \"Coucher du soleil\": coucher_soleil.strftime(\"%H:%M:%S\"),\n",
    "        \n",
    "    },index=[0])"
   ]
  },
  {
   "attachments": {},
   "cell_type": "markdown",
   "metadata": {},
   "source": [
    "concaténation du dataframe principal avec le dataframe contenant les données requetées sur l'api"
   ]
  },
  {
   "cell_type": "code",
   "execution_count": null,
   "metadata": {},
   "outputs": [],
   "source": [
    "# concaténation du dataframe princial avec le dataframe contenant les données requetées sur l'api\n",
    "    df = pd.concat([df, df2], ignore_index=True)\n",
    "\n",
    "print(df)"
   ]
  },
  {
   "attachments": {},
   "cell_type": "markdown",
   "metadata": {},
   "source": [
    "#export du dataframe au format csv"
   ]
  },
  {
   "cell_type": "code",
   "execution_count": null,
   "metadata": {},
   "outputs": [],
   "source": [
    "\n",
    "df.to_csv('meteo_villes_francaises.csv', index=False)"
   ]
  }
 ],
 "metadata": {
  "kernelspec": {
   "display_name": "env",
   "language": "python",
   "name": "python3"
  },
  "language_info": {
   "name": "python",
   "version": "3.10.6"
  },
  "orig_nbformat": 4
 },
 "nbformat": 4,
 "nbformat_minor": 2
}
